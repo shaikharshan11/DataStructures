{
 "cells": [
  {
   "cell_type": "markdown",
   "id": "0d5210df",
   "metadata": {},
   "source": [
    "# Linked list"
   ]
  },
  {
   "cell_type": "code",
   "execution_count": 1,
   "id": "4c538862",
   "metadata": {},
   "outputs": [],
   "source": [
    "class Node:\n",
    "    def __init__(self, value):\n",
    "        self.value = value\n",
    "        self.next = None\n",
    "        \n",
    "class LinkedList:\n",
    "    def __init__(self, value):\n",
    "        new_node = Node(value)\n",
    "        self.head = new_node\n",
    "        self.tail = new_node\n",
    "        self.length = 1\n",
    "    \n",
    "    def print_list(self):\n",
    "        temp = self.head\n",
    "        while temp is not None:\n",
    "            print(temp.value)\n",
    "            temp = temp.next\n",
    "            \n",
    "    def append(self, value):\n",
    "        new_node = Node(value)\n",
    "        if self.length == 0:\n",
    "            self.head = new_node\n",
    "            self.tail = new_node\n",
    "            self.length = 1\n",
    "        else:\n",
    "            self.tail.next = new_node\n",
    "            self.tail = new_node\n",
    "            self.length += 1\n",
    "        return True\n",
    "    \n",
    "    def pop(self):\n",
    "        if self.length == 0:\n",
    "            return None\n",
    "        temp = self.head\n",
    "        pre = self.head\n",
    "        while (temp.next):\n",
    "            pre = temp\n",
    "            temp = temp.next\n",
    "        self.tail = pre\n",
    "        self.tail.next = None\n",
    "        self.length -= 1\n",
    "        if self.length == 0:\n",
    "            self.head = None\n",
    "            self.tail = None\n",
    "        return temp\n",
    "    \n",
    "    def prepend(self, value):\n",
    "        new_node = Node(value)\n",
    "        if self.length == 0:\n",
    "            self.head = new_node\n",
    "            self.tail = new_node\n",
    "            self.length = 1\n",
    "        else:\n",
    "            new_node.next = self.head\n",
    "            self.head = new_node\n",
    "            self.length += 1\n",
    "        return True\n",
    "    \n",
    "    def pop_first(self):\n",
    "        if self.length == 0:\n",
    "            return None\n",
    "        temp = self.head\n",
    "        self.head = temp.next\n",
    "        temp.next = None\n",
    "        self.length -= 1\n",
    "        if self.length == 0:\n",
    "            self.head = None\n",
    "            self.tail = None\n",
    "        return temp\n",
    "    \n",
    "    def get(self, index):\n",
    "        if index <0 or index >= self.length:\n",
    "            return None\n",
    "        temp = self.head\n",
    "        for _ in range(index):\n",
    "            temp = temp.next\n",
    "        return temp\n",
    "    \n",
    "    def set_value(self, index, value):\n",
    "        temp = self.get(index)\n",
    "        if temp:\n",
    "            temp.value = value\n",
    "            return True\n",
    "        return False\n",
    "    \n",
    "    def insert(self, index, value):\n",
    "        if index < 0 or index > self.length:\n",
    "            return False\n",
    "        if index == 0:\n",
    "            return self.prepend(value)\n",
    "        if index == self.length:\n",
    "            return self.append(value)\n",
    "        new_node = Node(value)\n",
    "        temp = self.get(index - 1)\n",
    "        new_node.next = temp.next\n",
    "        temp.next = new_node\n",
    "        self.length += 1\n",
    "        return True\n",
    "    \n",
    "    def remove(self, index):\n",
    "        if index < 0 or index >= self.length:\n",
    "            return None\n",
    "        if index == 0:\n",
    "            return self.pop_first()\n",
    "        if index == self.length-1:\n",
    "            return self.pop()\n",
    "        pre = self.get(index - 1)\n",
    "        temp = self.get(index)\n",
    "        pre.next = temp.next\n",
    "        temp.next = None\n",
    "        self.length -= 1\n",
    "        return temp\n",
    "    \n",
    "    def reverse(self):\n",
    "        temp = self.head\n",
    "        self.head = self.tail\n",
    "        self.tail = temp\n",
    "        after = temp.next\n",
    "        before = None\n",
    "        for _ in range(self.length):\n",
    "            after = temp.next\n",
    "            temp.next = before\n",
    "            before = temp\n",
    "            temp = after"
   ]
  },
  {
   "cell_type": "code",
   "execution_count": 2,
   "id": "1166929a",
   "metadata": {},
   "outputs": [],
   "source": [
    "my_linked_list = LinkedList(4)"
   ]
  },
  {
   "cell_type": "code",
   "execution_count": 3,
   "id": "c911c879",
   "metadata": {},
   "outputs": [
    {
     "data": {
      "text/plain": [
       "True"
      ]
     },
     "execution_count": 3,
     "metadata": {},
     "output_type": "execute_result"
    }
   ],
   "source": [
    "my_linked_list.append(1)"
   ]
  },
  {
   "cell_type": "code",
   "execution_count": 4,
   "id": "3b6299d9",
   "metadata": {},
   "outputs": [
    {
     "data": {
      "text/plain": [
       "<__main__.Node at 0x2336e726e60>"
      ]
     },
     "execution_count": 4,
     "metadata": {},
     "output_type": "execute_result"
    }
   ],
   "source": [
    "my_linked_list.pop()"
   ]
  },
  {
   "cell_type": "code",
   "execution_count": 5,
   "id": "f5a981ed",
   "metadata": {},
   "outputs": [
    {
     "name": "stdout",
     "output_type": "stream",
     "text": [
      "4\n"
     ]
    }
   ],
   "source": [
    "my_linked_list.print_list()"
   ]
  },
  {
   "cell_type": "code",
   "execution_count": 6,
   "id": "ca1ae9dc",
   "metadata": {},
   "outputs": [
    {
     "data": {
      "text/plain": [
       "True"
      ]
     },
     "execution_count": 6,
     "metadata": {},
     "output_type": "execute_result"
    }
   ],
   "source": [
    "my_linked_list.prepend(2)"
   ]
  },
  {
   "cell_type": "code",
   "execution_count": 7,
   "id": "e184f400",
   "metadata": {},
   "outputs": [
    {
     "name": "stdout",
     "output_type": "stream",
     "text": [
      "2\n",
      "4\n"
     ]
    }
   ],
   "source": [
    "my_linked_list.print_list()"
   ]
  },
  {
   "cell_type": "code",
   "execution_count": 8,
   "id": "0f5e5d3e",
   "metadata": {},
   "outputs": [
    {
     "data": {
      "text/plain": [
       "<__main__.Node at 0x2336e725750>"
      ]
     },
     "execution_count": 8,
     "metadata": {},
     "output_type": "execute_result"
    }
   ],
   "source": [
    "my_linked_list.pop_first()"
   ]
  },
  {
   "cell_type": "code",
   "execution_count": 9,
   "id": "3f4b96ec",
   "metadata": {},
   "outputs": [
    {
     "name": "stdout",
     "output_type": "stream",
     "text": [
      "4\n"
     ]
    }
   ],
   "source": [
    "my_linked_list.print_list()"
   ]
  },
  {
   "cell_type": "code",
   "execution_count": 10,
   "id": "fd0af2d3",
   "metadata": {},
   "outputs": [
    {
     "data": {
      "text/plain": [
       "True"
      ]
     },
     "execution_count": 10,
     "metadata": {},
     "output_type": "execute_result"
    }
   ],
   "source": [
    "my_linked_list.append(1)"
   ]
  },
  {
   "cell_type": "code",
   "execution_count": 11,
   "id": "67952096",
   "metadata": {},
   "outputs": [
    {
     "data": {
      "text/plain": [
       "True"
      ]
     },
     "execution_count": 11,
     "metadata": {},
     "output_type": "execute_result"
    }
   ],
   "source": [
    "my_linked_list.append(3)"
   ]
  },
  {
   "cell_type": "code",
   "execution_count": 12,
   "id": "84b39339",
   "metadata": {},
   "outputs": [
    {
     "data": {
      "text/plain": [
       "<__main__.Node at 0x2336e7244f0>"
      ]
     },
     "execution_count": 12,
     "metadata": {},
     "output_type": "execute_result"
    }
   ],
   "source": [
    "my_linked_list.get(2)"
   ]
  },
  {
   "cell_type": "code",
   "execution_count": 13,
   "id": "b6af65df",
   "metadata": {},
   "outputs": [
    {
     "data": {
      "text/plain": [
       "True"
      ]
     },
     "execution_count": 13,
     "metadata": {},
     "output_type": "execute_result"
    }
   ],
   "source": [
    "my_linked_list.set_value(2, 5)"
   ]
  },
  {
   "cell_type": "code",
   "execution_count": 14,
   "id": "86df1882",
   "metadata": {},
   "outputs": [
    {
     "name": "stdout",
     "output_type": "stream",
     "text": [
      "4\n",
      "1\n",
      "5\n"
     ]
    }
   ],
   "source": [
    "my_linked_list.print_list()"
   ]
  },
  {
   "cell_type": "code",
   "execution_count": 15,
   "id": "a9f8149e",
   "metadata": {},
   "outputs": [
    {
     "data": {
      "text/plain": [
       "True"
      ]
     },
     "execution_count": 15,
     "metadata": {},
     "output_type": "execute_result"
    }
   ],
   "source": [
    "my_linked_list.insert(1, 6)"
   ]
  },
  {
   "cell_type": "code",
   "execution_count": 16,
   "id": "11ee2652",
   "metadata": {},
   "outputs": [
    {
     "name": "stdout",
     "output_type": "stream",
     "text": [
      "4\n",
      "6\n",
      "1\n",
      "5\n"
     ]
    }
   ],
   "source": [
    "my_linked_list.print_list()"
   ]
  },
  {
   "cell_type": "code",
   "execution_count": 17,
   "id": "7716ae8a",
   "metadata": {},
   "outputs": [
    {
     "data": {
      "text/plain": [
       "<__main__.Node at 0x2336e724940>"
      ]
     },
     "execution_count": 17,
     "metadata": {},
     "output_type": "execute_result"
    }
   ],
   "source": [
    "my_linked_list.remove(2)"
   ]
  },
  {
   "cell_type": "code",
   "execution_count": 18,
   "id": "d8c68448",
   "metadata": {},
   "outputs": [
    {
     "name": "stdout",
     "output_type": "stream",
     "text": [
      "4\n",
      "6\n",
      "5\n"
     ]
    }
   ],
   "source": [
    "my_linked_list.print_list()"
   ]
  },
  {
   "cell_type": "code",
   "execution_count": 19,
   "id": "e0a3bcfd",
   "metadata": {},
   "outputs": [],
   "source": [
    "my_linked_list.reverse()"
   ]
  },
  {
   "cell_type": "code",
   "execution_count": 20,
   "id": "a6077635",
   "metadata": {},
   "outputs": [
    {
     "name": "stdout",
     "output_type": "stream",
     "text": [
      "5\n",
      "6\n",
      "4\n"
     ]
    }
   ],
   "source": [
    "my_linked_list.print_list()"
   ]
  },
  {
   "cell_type": "markdown",
   "id": "0d28e4d8",
   "metadata": {},
   "source": [
    "# Doubly linked list"
   ]
  },
  {
   "cell_type": "code",
   "execution_count": 21,
   "id": "78a2eb07",
   "metadata": {},
   "outputs": [],
   "source": [
    "class Node:\n",
    "    def __init__(self, value):\n",
    "        self.value = value\n",
    "        self.next = None\n",
    "        self.prev = None\n",
    "        \n",
    "class DoublyLinkedList:\n",
    "    def __init__(self, value):\n",
    "        new_node = Node(value)\n",
    "        self.head = new_node\n",
    "        self.tail = new_node\n",
    "        self.length = 1\n",
    "        \n",
    "    def print_list(self):\n",
    "        temp = self.head\n",
    "        while temp is not None:\n",
    "            print(temp.value)\n",
    "            temp = temp.next\n",
    "    \n",
    "    def append(self, value):\n",
    "        new_node = Node(value)\n",
    "        if self.length == 0:\n",
    "            self.head = new_node\n",
    "            self.tail = new_node\n",
    "        else:\n",
    "            self.tail.next = new_node\n",
    "            new_node.prev = self.tail\n",
    "            self.tail = new_node\n",
    "        self.length += 1\n",
    "        return True\n",
    "    \n",
    "    \n",
    "    def pop(self):\n",
    "        if self.length == 0:\n",
    "            return None\n",
    "        temp = self.tail\n",
    "        if self.length == 1:\n",
    "            self.head = None\n",
    "            self.tail = None \n",
    "        else:       \n",
    "            self.tail = self.tail.prev\n",
    "            self.tail.next = None\n",
    "            temp.prev = None\n",
    "        self.length -= 1\n",
    "        return temp\n",
    "    \n",
    "    def prepend(self, value):\n",
    "        new_node = Node(value)\n",
    "        if self.length == 0:\n",
    "            self.head = new.node\n",
    "            self.tail = new.node\n",
    "        else:\n",
    "            new_node.next = self.head\n",
    "            self.head.prev = new_node\n",
    "            self.head = new_node\n",
    "        self.length += 1\n",
    "        return True\n",
    "        \n",
    "    def pop_first(self):\n",
    "        if self.length == 0:\n",
    "            return None\n",
    "        temp = self.head\n",
    "        if self.length == 1:\n",
    "            self.head = None\n",
    "            self.tail = None\n",
    "        else:\n",
    "            self.head = self.head.next\n",
    "            self.head.prev = None\n",
    "            temp.next = None\n",
    "        self.length -= 1\n",
    "        return temp\n",
    "            \n",
    "    def get(self, index):\n",
    "        if index < 0 or index >= self.length:\n",
    "            return None\n",
    "        temp = self.head\n",
    "        if index < self.length/2:\n",
    "            for _ in range(index):\n",
    "                temp = temp.next\n",
    "        else:\n",
    "            temp = self.tail\n",
    "            for _ in range(self.length-1, index, -1):\n",
    "                temp = temp.prev\n",
    "        return temp\n",
    "    \n",
    "    def set_value(self, index, value):\n",
    "        temp = self.get(index)\n",
    "        if temp:\n",
    "            temp.value = value\n",
    "            return True\n",
    "        return False\n",
    "    \n",
    "    def insert(self, index, value):\n",
    "        new_node = Node(value)\n",
    "        if index < 0 or index > self.length:\n",
    "            return False\n",
    "        if index == 0:\n",
    "            return self.prepend(value)\n",
    "        if index == self.length:\n",
    "            return self.append(value)\n",
    "        before = self.get(index - 1)\n",
    "        after = self.get(index)\n",
    "        new_node.next = after\n",
    "        new_node.prev = before\n",
    "        before.next = new_node\n",
    "        after.prev = new_node\n",
    "        self.length += 1\n",
    "        return True\n",
    "    \n",
    "    def remove(self, index):\n",
    "        if index < 0 or index >= self.length:\n",
    "            return None\n",
    "        if index == 0:\n",
    "            return self.pop_first()\n",
    "        if index == self.length - 1:\n",
    "            return self.pop()\n",
    "        temp = self.get(index)\n",
    "        before = self.get(index - 1)\n",
    "        after = self.get(index + 1)\n",
    "        temp.prev = None\n",
    "        temp.next = None\n",
    "        before.next = after\n",
    "        after.prev = before\n",
    "        self.length -= 1\n",
    "        return temp\n",
    "    \n",
    "    def reverse(self):\n",
    "        current_node = self.head\n",
    "        while current_node is not None:\n",
    "            temp_next = current_node.next\n",
    "            current_node.next = current_node.prev\n",
    "            current_node.prev = temp_next\n",
    "            current_node = temp_next\n",
    "        temp = self.head\n",
    "        self.head = self.tail\n",
    "        self.tail = temp"
   ]
  },
  {
   "cell_type": "code",
   "execution_count": 22,
   "id": "bc7dd49b",
   "metadata": {},
   "outputs": [],
   "source": [
    "mylist = DoublyLinkedList(3)"
   ]
  },
  {
   "cell_type": "code",
   "execution_count": 23,
   "id": "24c678ab",
   "metadata": {},
   "outputs": [
    {
     "name": "stdout",
     "output_type": "stream",
     "text": [
      "3\n"
     ]
    }
   ],
   "source": [
    "mylist.print_list()"
   ]
  },
  {
   "cell_type": "code",
   "execution_count": 24,
   "id": "cc2da2d0",
   "metadata": {},
   "outputs": [
    {
     "data": {
      "text/plain": [
       "True"
      ]
     },
     "execution_count": 24,
     "metadata": {},
     "output_type": "execute_result"
    }
   ],
   "source": [
    "mylist.append(9)"
   ]
  },
  {
   "cell_type": "code",
   "execution_count": 25,
   "id": "741d8575",
   "metadata": {},
   "outputs": [
    {
     "data": {
      "text/plain": [
       "True"
      ]
     },
     "execution_count": 25,
     "metadata": {},
     "output_type": "execute_result"
    }
   ],
   "source": [
    "mylist.append(3)"
   ]
  },
  {
   "cell_type": "code",
   "execution_count": 26,
   "id": "bd59c0d3",
   "metadata": {},
   "outputs": [
    {
     "data": {
      "text/plain": [
       "True"
      ]
     },
     "execution_count": 26,
     "metadata": {},
     "output_type": "execute_result"
    }
   ],
   "source": [
    "mylist.append(4)"
   ]
  },
  {
   "cell_type": "code",
   "execution_count": 27,
   "id": "bef8f299",
   "metadata": {},
   "outputs": [
    {
     "name": "stdout",
     "output_type": "stream",
     "text": [
      "3\n",
      "9\n",
      "3\n",
      "4\n"
     ]
    }
   ],
   "source": [
    "mylist.print_list()"
   ]
  },
  {
   "cell_type": "code",
   "execution_count": 28,
   "id": "683fbe7f",
   "metadata": {},
   "outputs": [
    {
     "data": {
      "text/plain": [
       "<__main__.Node at 0x2336e75fd00>"
      ]
     },
     "execution_count": 28,
     "metadata": {},
     "output_type": "execute_result"
    }
   ],
   "source": [
    "mylist.pop()"
   ]
  },
  {
   "cell_type": "code",
   "execution_count": 29,
   "id": "45673658",
   "metadata": {},
   "outputs": [
    {
     "data": {
      "text/plain": [
       "<__main__.Node at 0x2336e75df00>"
      ]
     },
     "execution_count": 29,
     "metadata": {},
     "output_type": "execute_result"
    }
   ],
   "source": [
    "mylist.pop()"
   ]
  },
  {
   "cell_type": "code",
   "execution_count": 30,
   "id": "76551f70",
   "metadata": {},
   "outputs": [
    {
     "data": {
      "text/plain": [
       "True"
      ]
     },
     "execution_count": 30,
     "metadata": {},
     "output_type": "execute_result"
    }
   ],
   "source": [
    "mylist.append(5)"
   ]
  },
  {
   "cell_type": "code",
   "execution_count": 31,
   "id": "4f5f82c8",
   "metadata": {},
   "outputs": [
    {
     "name": "stdout",
     "output_type": "stream",
     "text": [
      "3\n",
      "9\n",
      "5\n"
     ]
    }
   ],
   "source": [
    "mylist.print_list()"
   ]
  },
  {
   "cell_type": "code",
   "execution_count": 32,
   "id": "81c32376",
   "metadata": {},
   "outputs": [
    {
     "data": {
      "text/plain": [
       "True"
      ]
     },
     "execution_count": 32,
     "metadata": {},
     "output_type": "execute_result"
    }
   ],
   "source": [
    "mylist.prepend(0)"
   ]
  },
  {
   "cell_type": "code",
   "execution_count": 33,
   "id": "30f8d46d",
   "metadata": {},
   "outputs": [
    {
     "name": "stdout",
     "output_type": "stream",
     "text": [
      "0\n",
      "3\n",
      "9\n",
      "5\n"
     ]
    }
   ],
   "source": [
    "mylist.print_list()"
   ]
  },
  {
   "cell_type": "code",
   "execution_count": 34,
   "id": "c339f26f",
   "metadata": {},
   "outputs": [
    {
     "data": {
      "text/plain": [
       "<__main__.Node at 0x2336e75e920>"
      ]
     },
     "execution_count": 34,
     "metadata": {},
     "output_type": "execute_result"
    }
   ],
   "source": [
    "mylist.pop_first()"
   ]
  },
  {
   "cell_type": "code",
   "execution_count": 35,
   "id": "228c1f67",
   "metadata": {},
   "outputs": [
    {
     "name": "stdout",
     "output_type": "stream",
     "text": [
      "3\n",
      "9\n",
      "5\n"
     ]
    }
   ],
   "source": [
    "mylist.print_list()"
   ]
  },
  {
   "cell_type": "code",
   "execution_count": 36,
   "id": "14277279",
   "metadata": {},
   "outputs": [
    {
     "data": {
      "text/plain": [
       "5"
      ]
     },
     "execution_count": 36,
     "metadata": {},
     "output_type": "execute_result"
    }
   ],
   "source": [
    "mylist.get(2).value"
   ]
  },
  {
   "cell_type": "code",
   "execution_count": 37,
   "id": "46bb8a05",
   "metadata": {},
   "outputs": [
    {
     "data": {
      "text/plain": [
       "True"
      ]
     },
     "execution_count": 37,
     "metadata": {},
     "output_type": "execute_result"
    }
   ],
   "source": [
    "mylist.set_value(1, 7)"
   ]
  },
  {
   "cell_type": "code",
   "execution_count": 38,
   "id": "21fb8cc9",
   "metadata": {},
   "outputs": [
    {
     "name": "stdout",
     "output_type": "stream",
     "text": [
      "3\n",
      "7\n",
      "5\n"
     ]
    }
   ],
   "source": [
    "mylist.print_list()"
   ]
  },
  {
   "cell_type": "code",
   "execution_count": 39,
   "id": "729e2bae",
   "metadata": {},
   "outputs": [
    {
     "data": {
      "text/plain": [
       "True"
      ]
     },
     "execution_count": 39,
     "metadata": {},
     "output_type": "execute_result"
    }
   ],
   "source": [
    "mylist.insert(2, 9)"
   ]
  },
  {
   "cell_type": "code",
   "execution_count": 40,
   "id": "5ecc80ce",
   "metadata": {},
   "outputs": [
    {
     "name": "stdout",
     "output_type": "stream",
     "text": [
      "3\n",
      "7\n",
      "9\n",
      "5\n"
     ]
    }
   ],
   "source": [
    "mylist.print_list()"
   ]
  },
  {
   "cell_type": "code",
   "execution_count": 41,
   "id": "3ab04df4",
   "metadata": {},
   "outputs": [
    {
     "data": {
      "text/plain": [
       "<__main__.Node at 0x2336e75e9e0>"
      ]
     },
     "execution_count": 41,
     "metadata": {},
     "output_type": "execute_result"
    }
   ],
   "source": [
    "mylist.remove(1)"
   ]
  },
  {
   "cell_type": "code",
   "execution_count": 42,
   "id": "aa809459",
   "metadata": {},
   "outputs": [
    {
     "name": "stdout",
     "output_type": "stream",
     "text": [
      "3\n",
      "9\n",
      "5\n"
     ]
    }
   ],
   "source": [
    "mylist.print_list()"
   ]
  },
  {
   "cell_type": "code",
   "execution_count": 43,
   "id": "585a72ff",
   "metadata": {},
   "outputs": [],
   "source": [
    "mylist.reverse()"
   ]
  },
  {
   "cell_type": "code",
   "execution_count": 44,
   "id": "50fdd4ee",
   "metadata": {},
   "outputs": [
    {
     "name": "stdout",
     "output_type": "stream",
     "text": [
      "5\n",
      "9\n",
      "3\n"
     ]
    }
   ],
   "source": [
    "mylist.print_list()"
   ]
  },
  {
   "cell_type": "markdown",
   "id": "42a7c0d8",
   "metadata": {},
   "source": [
    "# Stack"
   ]
  },
  {
   "cell_type": "code",
   "execution_count": 45,
   "id": "70869cce",
   "metadata": {},
   "outputs": [],
   "source": [
    "class Node:\n",
    "    def __init__(self, value):\n",
    "        self.value = value\n",
    "        self.next = None\n",
    "        \n",
    "class Stack:\n",
    "    def __init__(self, value):\n",
    "        new_node = Node(value)\n",
    "        self.top = new_node\n",
    "        self.height = 1\n",
    "        \n",
    "    def print_stack(self):\n",
    "        temp = self.top\n",
    "        while temp:\n",
    "            print(temp.value)\n",
    "            temp = temp.next\n",
    "            \n",
    "    def push(self, value):\n",
    "        new_node = Node(value)\n",
    "        if self.height == 0:\n",
    "            self.top = new_node\n",
    "        else:\n",
    "            new_node.next = self.top\n",
    "            self.top = new_node\n",
    "        self.height += 1\n",
    "        return True\n",
    "    \n",
    "    def pop(self):\n",
    "        if self.height == 0:\n",
    "            return None\n",
    "        temp = self.top\n",
    "        if self.height == 1:\n",
    "            self.top = None\n",
    "        else:\n",
    "            self.top = self.top.next\n",
    "            temp.next = None\n",
    "        self.height -= 1\n",
    "        return temp"
   ]
  },
  {
   "cell_type": "code",
   "execution_count": 46,
   "id": "9de6be59",
   "metadata": {},
   "outputs": [],
   "source": [
    "mystack = Stack(9)"
   ]
  },
  {
   "cell_type": "code",
   "execution_count": 47,
   "id": "869ab1fd",
   "metadata": {},
   "outputs": [
    {
     "name": "stdout",
     "output_type": "stream",
     "text": [
      "9\n"
     ]
    }
   ],
   "source": [
    "mystack.print_stack()"
   ]
  },
  {
   "cell_type": "code",
   "execution_count": 48,
   "id": "e1d0eb54",
   "metadata": {},
   "outputs": [
    {
     "data": {
      "text/plain": [
       "True"
      ]
     },
     "execution_count": 48,
     "metadata": {},
     "output_type": "execute_result"
    }
   ],
   "source": [
    "mystack.push(0)"
   ]
  },
  {
   "cell_type": "code",
   "execution_count": 49,
   "id": "c608b51b",
   "metadata": {},
   "outputs": [
    {
     "name": "stdout",
     "output_type": "stream",
     "text": [
      "0\n",
      "9\n"
     ]
    }
   ],
   "source": [
    "mystack.print_stack()"
   ]
  },
  {
   "cell_type": "code",
   "execution_count": 50,
   "id": "45685d9e",
   "metadata": {},
   "outputs": [
    {
     "data": {
      "text/plain": [
       "<__main__.Node at 0x2336e726440>"
      ]
     },
     "execution_count": 50,
     "metadata": {},
     "output_type": "execute_result"
    }
   ],
   "source": [
    "mystack.pop()"
   ]
  },
  {
   "cell_type": "code",
   "execution_count": 51,
   "id": "d362dd92",
   "metadata": {},
   "outputs": [
    {
     "name": "stdout",
     "output_type": "stream",
     "text": [
      "9\n"
     ]
    }
   ],
   "source": [
    "mystack.print_stack()"
   ]
  },
  {
   "cell_type": "markdown",
   "id": "8f895e7d",
   "metadata": {},
   "source": [
    "# Queue"
   ]
  },
  {
   "cell_type": "code",
   "execution_count": 52,
   "id": "7124e9e2",
   "metadata": {},
   "outputs": [],
   "source": [
    "class Node:\n",
    "    def __init__(self, value):\n",
    "        self.value = value\n",
    "        self.next = None\n",
    "        \n",
    "class Queue:\n",
    "    def __init__(self, value):\n",
    "        new_node = Node(value)\n",
    "        self.first = new_node\n",
    "        self.last = new_node\n",
    "        self.length = 1\n",
    "        \n",
    "    def print_queue(self):\n",
    "        temp = self.first\n",
    "        while temp:\n",
    "            print(temp.value)\n",
    "            temp = temp.next\n",
    "            \n",
    "    def enqueue(self, value):\n",
    "        new_node = Node(value)\n",
    "        if self.length == 0:\n",
    "            self.first = new_node\n",
    "            self.last = new_node\n",
    "        else:\n",
    "            self.last.next = new_node\n",
    "            self.last = new_node\n",
    "        self.length += 1\n",
    "        return True\n",
    "    \n",
    "    def dequeue(self):\n",
    "        if self.length == 0:\n",
    "            return None\n",
    "        temp = self.first\n",
    "        if self.length == 1:\n",
    "            self.first = None\n",
    "            self.last = None\n",
    "        else:\n",
    "            self.first = self.first.next\n",
    "            temp.next = None\n",
    "        self.length -= 1\n",
    "        return temp"
   ]
  },
  {
   "cell_type": "code",
   "execution_count": 53,
   "id": "ed9870e0",
   "metadata": {},
   "outputs": [],
   "source": [
    "myqueue = Queue(7)"
   ]
  },
  {
   "cell_type": "code",
   "execution_count": 54,
   "id": "ca889ff6",
   "metadata": {},
   "outputs": [
    {
     "name": "stdout",
     "output_type": "stream",
     "text": [
      "7\n"
     ]
    }
   ],
   "source": [
    "myqueue.print_queue()"
   ]
  },
  {
   "cell_type": "code",
   "execution_count": 55,
   "id": "539f042a",
   "metadata": {},
   "outputs": [
    {
     "data": {
      "text/plain": [
       "True"
      ]
     },
     "execution_count": 55,
     "metadata": {},
     "output_type": "execute_result"
    }
   ],
   "source": [
    "myqueue.enqueue(4)"
   ]
  },
  {
   "cell_type": "code",
   "execution_count": 56,
   "id": "fc554605",
   "metadata": {},
   "outputs": [
    {
     "name": "stdout",
     "output_type": "stream",
     "text": [
      "7\n",
      "4\n"
     ]
    }
   ],
   "source": [
    "myqueue.print_queue()"
   ]
  },
  {
   "cell_type": "code",
   "execution_count": 57,
   "id": "bfcd2dc5",
   "metadata": {},
   "outputs": [
    {
     "data": {
      "text/plain": [
       "True"
      ]
     },
     "execution_count": 57,
     "metadata": {},
     "output_type": "execute_result"
    }
   ],
   "source": [
    "myqueue.enqueue(4)"
   ]
  },
  {
   "cell_type": "code",
   "execution_count": 58,
   "id": "c102f384",
   "metadata": {},
   "outputs": [
    {
     "data": {
      "text/plain": [
       "True"
      ]
     },
     "execution_count": 58,
     "metadata": {},
     "output_type": "execute_result"
    }
   ],
   "source": [
    "myqueue.enqueue(4)"
   ]
  },
  {
   "cell_type": "code",
   "execution_count": 59,
   "id": "9635f941",
   "metadata": {},
   "outputs": [
    {
     "data": {
      "text/plain": [
       "<__main__.Node at 0x2336e726500>"
      ]
     },
     "execution_count": 59,
     "metadata": {},
     "output_type": "execute_result"
    }
   ],
   "source": [
    "myqueue.dequeue()"
   ]
  },
  {
   "cell_type": "code",
   "execution_count": 60,
   "id": "5a07e409",
   "metadata": {},
   "outputs": [
    {
     "name": "stdout",
     "output_type": "stream",
     "text": [
      "4\n",
      "4\n",
      "4\n"
     ]
    }
   ],
   "source": [
    "myqueue.print_queue()"
   ]
  },
  {
   "cell_type": "markdown",
   "id": "1f3ee734",
   "metadata": {},
   "source": [
    "# Binary Search Tree"
   ]
  },
  {
   "cell_type": "code",
   "execution_count": 61,
   "id": "df4b4eaf",
   "metadata": {},
   "outputs": [],
   "source": [
    "class Node:\n",
    "    def __init__(self, value):\n",
    "        self.value = value\n",
    "        self.left = None\n",
    "        self.right = None\n",
    "        \n",
    "class BinarySearchTree:\n",
    "    def __init__(self):\n",
    "        self.root = None\n",
    "        \n",
    "    def insert(self, value):\n",
    "        new_node = Node(value)\n",
    "        if self.root is None:\n",
    "            self.root = new_node\n",
    "            return True\n",
    "        temp = self.root\n",
    "        while (True):\n",
    "            if new_node.value == temp.value:\n",
    "                return False\n",
    "            if value < temp.value:\n",
    "                if temp.left is None:\n",
    "                    temp.left = new_node\n",
    "                    return True\n",
    "                temp = temp.left\n",
    "            else:\n",
    "                if temp.right is None:\n",
    "                    temp.right = new_node\n",
    "                    return True\n",
    "                temp = temp.right\n",
    "                \n",
    "    def contains(self, value):\n",
    "        if self.root is None:\n",
    "            return False\n",
    "        temp = self.root\n",
    "        while temp is not None:\n",
    "            if temp.value > value:\n",
    "                temp = temp.left\n",
    "            elif temp.value < value:\n",
    "                temp = temp.right\n",
    "            else:\n",
    "                return True\n",
    "        return False \n",
    "    \n",
    "    #Breadth First Search\n",
    "    \n",
    "    def BFS(self):\n",
    "        current_node = self.root\n",
    "        queue = []\n",
    "        results = []\n",
    "        queue.append(current_node)\n",
    "        while len(queue)>0:\n",
    "            current_node = queue.pop(0)\n",
    "            results.append(current_node.value)\n",
    "            if current_node.left is not None:\n",
    "                queue.append(current_node.left)\n",
    "            if current_node.right is not None:\n",
    "                queue.append(current_node.right)\n",
    "        return results\n",
    "    \n",
    "    \n",
    "    #Depth First Search\n",
    "    def pre_order(self):\n",
    "        results = []\n",
    "        def transverse(current_node):\n",
    "            results.append(current_node.value)\n",
    "            if current_node.left is not None:\n",
    "                transverse(current_node.left)\n",
    "            if current_node.right is not None:\n",
    "                transverse(current_node.right)\n",
    "        transverse(self.root)\n",
    "        return results\n",
    "    \n",
    "    def post_order(self):\n",
    "        results = []\n",
    "        def transverse(current_node):\n",
    "            if current_node.left is not None:\n",
    "                transverse(current_node.left)\n",
    "            if current_node.right is not None:\n",
    "                transverse(current_node.right)\n",
    "            results.append(current_node.value)\n",
    "        transverse(self.root)\n",
    "        return results\n",
    "    \n",
    "    def in_order(self):\n",
    "        results = []\n",
    "        def transverse(current_node):\n",
    "            if current_node.left is not None:\n",
    "                transverse(current_node.left)\n",
    "            results.append(current_node.value)\n",
    "            if current_node.right is not None:\n",
    "                transverse(current_node.right)\n",
    "        transverse(self.root)\n",
    "        return results\n",
    "    #removing method is same as of recursive BST"
   ]
  },
  {
   "cell_type": "code",
   "execution_count": 62,
   "id": "9c1081e0",
   "metadata": {},
   "outputs": [],
   "source": [
    "mybst = BinarySearchTree()"
   ]
  },
  {
   "cell_type": "code",
   "execution_count": 63,
   "id": "5149ad9c",
   "metadata": {},
   "outputs": [
    {
     "data": {
      "text/plain": [
       "True"
      ]
     },
     "execution_count": 63,
     "metadata": {},
     "output_type": "execute_result"
    }
   ],
   "source": [
    "mybst.insert(45)"
   ]
  },
  {
   "cell_type": "code",
   "execution_count": 64,
   "id": "afef4a71",
   "metadata": {},
   "outputs": [
    {
     "data": {
      "text/plain": [
       "True"
      ]
     },
     "execution_count": 64,
     "metadata": {},
     "output_type": "execute_result"
    }
   ],
   "source": [
    "mybst.insert(42)"
   ]
  },
  {
   "cell_type": "code",
   "execution_count": 65,
   "id": "dae3bd8e",
   "metadata": {},
   "outputs": [
    {
     "data": {
      "text/plain": [
       "True"
      ]
     },
     "execution_count": 65,
     "metadata": {},
     "output_type": "execute_result"
    }
   ],
   "source": [
    "mybst.insert(48)"
   ]
  },
  {
   "cell_type": "code",
   "execution_count": 66,
   "id": "465e2a95",
   "metadata": {},
   "outputs": [
    {
     "data": {
      "text/plain": [
       "True"
      ]
     },
     "execution_count": 66,
     "metadata": {},
     "output_type": "execute_result"
    }
   ],
   "source": [
    "mybst.insert(41)"
   ]
  },
  {
   "cell_type": "code",
   "execution_count": 67,
   "id": "0bc3f562",
   "metadata": {},
   "outputs": [
    {
     "data": {
      "text/plain": [
       "True"
      ]
     },
     "execution_count": 67,
     "metadata": {},
     "output_type": "execute_result"
    }
   ],
   "source": [
    "mybst.insert(43)"
   ]
  },
  {
   "cell_type": "code",
   "execution_count": 68,
   "id": "e0ab18f6",
   "metadata": {},
   "outputs": [
    {
     "data": {
      "text/plain": [
       "[45, 42, 41, 43, 48]"
      ]
     },
     "execution_count": 68,
     "metadata": {},
     "output_type": "execute_result"
    }
   ],
   "source": [
    "mybst.pre_order()"
   ]
  },
  {
   "cell_type": "code",
   "execution_count": 69,
   "id": "fb2e862c",
   "metadata": {},
   "outputs": [
    {
     "data": {
      "text/plain": [
       "[41, 43, 42, 48, 45]"
      ]
     },
     "execution_count": 69,
     "metadata": {},
     "output_type": "execute_result"
    }
   ],
   "source": [
    "mybst.post_order()"
   ]
  },
  {
   "cell_type": "code",
   "execution_count": 70,
   "id": "9defdc31",
   "metadata": {},
   "outputs": [
    {
     "data": {
      "text/plain": [
       "[41, 42, 43, 45, 48]"
      ]
     },
     "execution_count": 70,
     "metadata": {},
     "output_type": "execute_result"
    }
   ],
   "source": [
    "mybst.in_order()"
   ]
  },
  {
   "cell_type": "code",
   "execution_count": 71,
   "id": "df0bfc7c",
   "metadata": {},
   "outputs": [
    {
     "data": {
      "text/plain": [
       "[45, 42, 48, 41, 43]"
      ]
     },
     "execution_count": 71,
     "metadata": {},
     "output_type": "execute_result"
    }
   ],
   "source": [
    "mybst.BFS()"
   ]
  },
  {
   "cell_type": "code",
   "execution_count": 72,
   "id": "e29e6b2b",
   "metadata": {},
   "outputs": [
    {
     "data": {
      "text/plain": [
       "True"
      ]
     },
     "execution_count": 72,
     "metadata": {},
     "output_type": "execute_result"
    }
   ],
   "source": [
    "mybst.contains(45)"
   ]
  },
  {
   "cell_type": "code",
   "execution_count": 73,
   "id": "991dfa86",
   "metadata": {},
   "outputs": [
    {
     "data": {
      "text/plain": [
       "False"
      ]
     },
     "execution_count": 73,
     "metadata": {},
     "output_type": "execute_result"
    }
   ],
   "source": [
    "mybst.contains(50)"
   ]
  },
  {
   "cell_type": "markdown",
   "id": "31c456b6",
   "metadata": {},
   "source": [
    "# Hash table"
   ]
  },
  {
   "cell_type": "code",
   "execution_count": 74,
   "id": "74abb0fa",
   "metadata": {},
   "outputs": [],
   "source": [
    "class HashTable:\n",
    "    def __init__(self, size = 7):\n",
    "        self.data_map = [None] * size\n",
    "        \n",
    "    def __hash(self, key):\n",
    "        myhash = 0\n",
    "        for letter in key:\n",
    "            myhash = (myhash + ord(letter) * 23) % len(self.data_map)\n",
    "        return myhash\n",
    "        \n",
    "    def print_table(self):\n",
    "        for i, j in enumerate(self.data_map):\n",
    "            print(i, \": \", j)\n",
    "            \n",
    "    def set_value(self, key, value):\n",
    "        index = self.__hash(key)\n",
    "        if self.data_map[index] == None:\n",
    "            self.data_map[index] = []\n",
    "        self.data_map[index].append([key, value])\n",
    "        \n",
    "    def get_value(self, key):\n",
    "        index = self.__hash(key)\n",
    "        if self.data_map[index] is not None:\n",
    "            for i in range(len(self.data_map[index])):\n",
    "                if self.data_map[index][i][0] == key:\n",
    "                    return self.data_map[index][i][1]\n",
    "        return None\n",
    "    \n",
    "    def keys(self):\n",
    "        all_keys = []\n",
    "        for i in range(len(self.data_map)):\n",
    "            if self.data_map[i] is not None:\n",
    "                for j in range(len(self.data_map[i])):\n",
    "                    all_keys.append(self.data_map[i][j][0])\n",
    "        return all_keys\n",
    "    \n",
    "    def remove(self, key):\n",
    "        index = self.__hash(key)\n",
    "        if self.data_map[index] is None:\n",
    "            return None\n",
    "\n",
    "        for i in range(len(self.data_map[index])):\n",
    "            if self.data_map[index][i][0] == key:\n",
    "                del self.data_map[index][i]  \n",
    "                return key\n",
    "        return None"
   ]
  },
  {
   "cell_type": "code",
   "execution_count": 75,
   "id": "4448483b",
   "metadata": {},
   "outputs": [],
   "source": [
    "myhash = HashTable()"
   ]
  },
  {
   "cell_type": "code",
   "execution_count": null,
   "id": "0a283cd5",
   "metadata": {},
   "outputs": [],
   "source": [
    "myhash.set_value('arsh', 9)"
   ]
  },
  {
   "cell_type": "code",
   "execution_count": null,
   "id": "65df1e7c",
   "metadata": {},
   "outputs": [],
   "source": [
    "myhash.set_value('moha', 4)"
   ]
  },
  {
   "cell_type": "code",
   "execution_count": null,
   "id": "7bc0f933",
   "metadata": {},
   "outputs": [],
   "source": [
    "myhash.set_value('shaikh', 3)"
   ]
  },
  {
   "cell_type": "code",
   "execution_count": null,
   "id": "36c2e602",
   "metadata": {},
   "outputs": [],
   "source": [
    "myhash.get_value('arsh')"
   ]
  },
  {
   "cell_type": "code",
   "execution_count": null,
   "id": "ef966f7c",
   "metadata": {},
   "outputs": [],
   "source": [
    "myhash.keys()"
   ]
  },
  {
   "cell_type": "code",
   "execution_count": null,
   "id": "598259c8",
   "metadata": {},
   "outputs": [],
   "source": [
    "myhash.remove('moha')"
   ]
  },
  {
   "cell_type": "code",
   "execution_count": null,
   "id": "b401dff9",
   "metadata": {},
   "outputs": [],
   "source": [
    "myhash.print_table()"
   ]
  },
  {
   "cell_type": "markdown",
   "id": "5932ccbe",
   "metadata": {},
   "source": [
    "# Graph"
   ]
  },
  {
   "cell_type": "code",
   "execution_count": 1,
   "id": "afa6f343",
   "metadata": {},
   "outputs": [],
   "source": [
    "class Graph:\n",
    "    def __init__(self):\n",
    "        self.adj_list = {}\n",
    "        \n",
    "    def print_graph(self):\n",
    "        v_list = []\n",
    "        for vertex in self.adj_list:\n",
    "            v_list.append(vertex)\n",
    "        v_list.sort()\n",
    "        for v in v_list:\n",
    "            print(v, \": \", self.adj_list[v])\n",
    "        \n",
    "    def add_vertex(self, vertex):\n",
    "        if vertex not in self.adj_list:\n",
    "            self.adj_list[vertex] = []\n",
    "            return True\n",
    "        return False\n",
    "    \n",
    "    def add_edge(self, v1, v2):\n",
    "        if v1 in self.adj_list.keys() and v2 in self.adj_list.keys():\n",
    "            self.adj_list[v1].append(v2)\n",
    "            self.adj_list[v2].append(v1)\n",
    "            return True\n",
    "        return False\n",
    "    \n",
    "    def remove_edge(self, v1, v2):\n",
    "        if v1 in self.adj_list.keys and v2 in self.adj_list.keys():\n",
    "            try:\n",
    "                self.adj_list[v1].remove(v2)\n",
    "                self.adj_list[v2].remove(v1)\n",
    "            except ValueError:\n",
    "                pass\n",
    "            return True\n",
    "        return False\n",
    "    \n",
    "    def remove_vertex(self, vertex):\n",
    "        if vertex in self.adj_list.keys():\n",
    "            for other_vertex in self.adj_list[vertex]:\n",
    "                self.adj_list[other_vertex].remove(vertex)\n",
    "            del self.adj_list[vertex]\n",
    "            return True\n",
    "        return False"
   ]
  },
  {
   "cell_type": "code",
   "execution_count": 2,
   "id": "fcb77fbf",
   "metadata": {},
   "outputs": [],
   "source": [
    "mygraph = Graph()"
   ]
  },
  {
   "cell_type": "code",
   "execution_count": 3,
   "id": "ccaf71ae",
   "metadata": {},
   "outputs": [
    {
     "data": {
      "text/plain": [
       "True"
      ]
     },
     "execution_count": 3,
     "metadata": {},
     "output_type": "execute_result"
    }
   ],
   "source": [
    "mygraph.add_vertex('A')"
   ]
  },
  {
   "cell_type": "code",
   "execution_count": 4,
   "id": "4d16fe5e",
   "metadata": {},
   "outputs": [
    {
     "data": {
      "text/plain": [
       "True"
      ]
     },
     "execution_count": 4,
     "metadata": {},
     "output_type": "execute_result"
    }
   ],
   "source": [
    "mygraph.add_vertex('B')"
   ]
  },
  {
   "cell_type": "code",
   "execution_count": 5,
   "id": "5164a65f",
   "metadata": {},
   "outputs": [
    {
     "data": {
      "text/plain": [
       "True"
      ]
     },
     "execution_count": 5,
     "metadata": {},
     "output_type": "execute_result"
    }
   ],
   "source": [
    "mygraph.add_edge('A', 'B')"
   ]
  },
  {
   "cell_type": "code",
   "execution_count": 6,
   "id": "2d6aa671",
   "metadata": {},
   "outputs": [
    {
     "name": "stdout",
     "output_type": "stream",
     "text": [
      "A :  ['B']\n",
      "B :  ['A']\n"
     ]
    }
   ],
   "source": [
    "mygraph.print_graph()"
   ]
  },
  {
   "cell_type": "markdown",
   "id": "7dbc8bdd",
   "metadata": {},
   "source": [
    "# Max Heap"
   ]
  },
  {
   "cell_type": "code",
   "execution_count": 1,
   "id": "012304f3",
   "metadata": {},
   "outputs": [],
   "source": [
    "class MaxHeap:\n",
    "    def __init__(self):\n",
    "        self.heap = []\n",
    "        \n",
    "    def _left_child(self, index):\n",
    "        return 2 * index + 1\n",
    "    \n",
    "    def _right_child(self, index):\n",
    "        return 2 * index + 2\n",
    "    \n",
    "    def _parent(self, index):\n",
    "        return (index - 1)//2\n",
    "    \n",
    "    def _swap(self, index1, index2):\n",
    "        self.heap[index1], self.heap[index2] = self.heap[index2], self.heap[index1]\n",
    "        \n",
    "    def insert(self, value):\n",
    "        self.heap.append(value)\n",
    "        current = len(self.heap) -1\n",
    "        while current > 0 and self.heap[current] > self.heap[self._parent(current)]:\n",
    "            self._swap(current, self._parent(current))\n",
    "            current = self._parent(current)\n",
    "            \n",
    "    def _sink_down(self, index):\n",
    "        max_index = index\n",
    "        while True:\n",
    "            left_index = self._left_child(index)\n",
    "            right_index = self._right_child(index)\n",
    "            if (left_index < len(self.heap)) and self.heap[left_index] > self.heap[max_index]:\n",
    "                max_index = left_index\n",
    "            if (right_index < len(self.heap)) and self.heap[right_index] > self.heap[max_index]:\n",
    "                max_index = right_index \n",
    "            if max_index != index:\n",
    "                self._swap(index, max_index)\n",
    "                index = max_index\n",
    "            else:\n",
    "                return\n",
    "            \n",
    "    def remove(self):\n",
    "        if len(self.heap) == 0:\n",
    "            return None\n",
    "        if len(self.heap) == 1:\n",
    "            return self.heap.pop()\n",
    "        max_value = self.heap[0]\n",
    "        self.heap[0] = self.heap.pop()\n",
    "        self._sink_down(0)\n",
    "        return max_value"
   ]
  },
  {
   "cell_type": "code",
   "execution_count": 2,
   "id": "75fbfa94",
   "metadata": {},
   "outputs": [],
   "source": [
    "myheap = MaxHeap()"
   ]
  },
  {
   "cell_type": "code",
   "execution_count": 3,
   "id": "790e8005",
   "metadata": {},
   "outputs": [],
   "source": [
    "myheap.insert(56)"
   ]
  },
  {
   "cell_type": "code",
   "execution_count": 4,
   "id": "46534daf",
   "metadata": {},
   "outputs": [],
   "source": [
    "myheap.insert(76)"
   ]
  },
  {
   "cell_type": "code",
   "execution_count": 5,
   "id": "1a7d6a3d",
   "metadata": {},
   "outputs": [],
   "source": [
    "myheap.insert(14)"
   ]
  },
  {
   "cell_type": "code",
   "execution_count": 6,
   "id": "b2775772",
   "metadata": {},
   "outputs": [
    {
     "name": "stdout",
     "output_type": "stream",
     "text": [
      "[76, 56, 14]\n"
     ]
    }
   ],
   "source": [
    "print(myheap.heap)"
   ]
  },
  {
   "cell_type": "code",
   "execution_count": null,
   "id": "88c9d309",
   "metadata": {},
   "outputs": [],
   "source": [
    "myheap.remove()"
   ]
  },
  {
   "cell_type": "markdown",
   "id": "ff2725fc",
   "metadata": {},
   "source": [
    "# Recursive BST"
   ]
  },
  {
   "cell_type": "code",
   "execution_count": 1,
   "id": "580c34cf",
   "metadata": {},
   "outputs": [],
   "source": [
    "class Node:\n",
    "    def __init__(self, value):\n",
    "        self.value = value\n",
    "        self.left = None\n",
    "        self.right = None\n",
    "        \n",
    "class BinarySearchTree:\n",
    "    def __init__(self):\n",
    "        self.root = None\n",
    "        \n",
    "    def r_insert(self, value):\n",
    "        if self.root == None:\n",
    "            self.root = Node(value)\n",
    "        self.__r_insert(self.root, value)\n",
    "        \n",
    "    def __r_insert(self, current_node, value):\n",
    "        if current_node == None:\n",
    "            return Node(value)\n",
    "        if value < current_node.value:\n",
    "            current_node.left = self.__r_insert(current_node.left, value)\n",
    "        if value > current_node.value:\n",
    "            current_node.right = self.__r_insert(current_node.right, value)\n",
    "        return current_node\n",
    "    \n",
    "    def r_contains(self, value):\n",
    "        return self.__r_contains(self.root, value)\n",
    "    \n",
    "    def __r_contains(self, current_node, value):\n",
    "        if current_node == None:\n",
    "            return False\n",
    "        if current_node.value == value:\n",
    "            return True\n",
    "        if value < current_node.value:\n",
    "            return self.__r_contains(current_node.left, value)\n",
    "        if value > current_node.value:\n",
    "            return self.__r_contains(current_node.right, value)\n",
    "        \n",
    "    def min_value(self, current_node):\n",
    "        while current_node.left is not None:\n",
    "            current_node = current_node.left\n",
    "        return current_node.value\n",
    "    \n",
    "    def delete_node(self, value):\n",
    "        self.root = self.__delete_node(self.root, value)\n",
    "        \n",
    "    def __delete_node(self, current_node, value):\n",
    "        if current_node == None:\n",
    "            return None\n",
    "        elif value < current_node.value:\n",
    "            current_node.left = self.__delete_node(current_node.left, value)\n",
    "        elif value > current_node.value:\n",
    "            current_node.right = self.__delete_node(current_node.right, value)\n",
    "        else:\n",
    "            if current_node.left == None and current_node.right == None:\n",
    "                return None\n",
    "            elif current_node.left == None:\n",
    "                current_node = current_node.right\n",
    "            elif current_node.right == None:\n",
    "                current_node = current_node.left\n",
    "            else:\n",
    "                sub_tree_min = self.min_value(current_node.right)\n",
    "                current_node.value = sub_tree_min\n",
    "                current_node.right = self.__delete_node(current_node.right, sub_tree_min)\n",
    "        return current_node"
   ]
  },
  {
   "cell_type": "code",
   "execution_count": 2,
   "id": "0a70e664",
   "metadata": {},
   "outputs": [],
   "source": [
    "mybst = BinarySearchTree()"
   ]
  },
  {
   "cell_type": "code",
   "execution_count": 3,
   "id": "4a2b2d6e",
   "metadata": {},
   "outputs": [],
   "source": [
    "mybst.r_insert(56)"
   ]
  },
  {
   "cell_type": "code",
   "execution_count": 4,
   "id": "5a2d379d",
   "metadata": {},
   "outputs": [],
   "source": [
    "mybst.r_insert(52)"
   ]
  },
  {
   "cell_type": "code",
   "execution_count": 5,
   "id": "80adea7c",
   "metadata": {},
   "outputs": [],
   "source": [
    "mybst.r_insert(60)"
   ]
  },
  {
   "cell_type": "code",
   "execution_count": 6,
   "id": "754bf65c",
   "metadata": {},
   "outputs": [
    {
     "data": {
      "text/plain": [
       "True"
      ]
     },
     "execution_count": 6,
     "metadata": {},
     "output_type": "execute_result"
    }
   ],
   "source": [
    "mybst.r_contains(56)"
   ]
  },
  {
   "cell_type": "code",
   "execution_count": 7,
   "id": "9ae636b7",
   "metadata": {},
   "outputs": [
    {
     "data": {
      "text/plain": [
       "False"
      ]
     },
     "execution_count": 7,
     "metadata": {},
     "output_type": "execute_result"
    }
   ],
   "source": [
    "mybst.r_contains(57)"
   ]
  },
  {
   "cell_type": "code",
   "execution_count": 8,
   "id": "144e5c64",
   "metadata": {},
   "outputs": [
    {
     "name": "stdout",
     "output_type": "stream",
     "text": [
      "<__main__.BinarySearchTree object at 0x0000019EFBC8C640>\n"
     ]
    }
   ],
   "source": [
    "print(mybst)"
   ]
  },
  {
   "cell_type": "code",
   "execution_count": 9,
   "id": "5c20fac4",
   "metadata": {},
   "outputs": [],
   "source": [
    "mybst.delete_node(60)"
   ]
  },
  {
   "cell_type": "code",
   "execution_count": 10,
   "id": "fdf29829",
   "metadata": {},
   "outputs": [
    {
     "data": {
      "text/plain": [
       "False"
      ]
     },
     "execution_count": 10,
     "metadata": {},
     "output_type": "execute_result"
    }
   ],
   "source": [
    "mybst.r_contains(60)"
   ]
  },
  {
   "cell_type": "markdown",
   "id": "464371a1",
   "metadata": {},
   "source": [
    "# Bubble sort"
   ]
  },
  {
   "cell_type": "code",
   "execution_count": null,
   "id": "4bc5f885",
   "metadata": {},
   "outputs": [],
   "source": [
    "def bubble_sort(lst):\n",
    "    for i in range(len(lst)-1, 0, -1):\n",
    "        for j in range(i):\n",
    "            if lst[j] > lst[j+1]:\n",
    "                temp = lst[j]\n",
    "                lst[j] = lst[j+1]\n",
    "                lst[j+1] = temp\n",
    "    return lst"
   ]
  },
  {
   "cell_type": "code",
   "execution_count": null,
   "id": "5d9fc034",
   "metadata": {},
   "outputs": [],
   "source": [
    "my_list = [4, 5, 7, 2, 0, 3]\n",
    "mysort = bubble_sort(my_list)"
   ]
  },
  {
   "cell_type": "code",
   "execution_count": null,
   "id": "f143825d",
   "metadata": {},
   "outputs": [],
   "source": [
    "mysort"
   ]
  },
  {
   "cell_type": "markdown",
   "id": "ae1fb7e1",
   "metadata": {},
   "source": [
    "# Selection sort"
   ]
  },
  {
   "cell_type": "code",
   "execution_count": 11,
   "id": "0447f5e8",
   "metadata": {},
   "outputs": [],
   "source": [
    "def selection_sort(lst):\n",
    "    for i in range(len(lst)-1):\n",
    "        min_index = i\n",
    "        for j in range(i+1, len(lst)):\n",
    "            if lst[j] < lst[min_index]:\n",
    "                min_index = j\n",
    "        if i != min_index:\n",
    "            temp = lst[i]\n",
    "            lst[i] = lst[min_index]\n",
    "            lst[min_index] = temp\n",
    "    return lst"
   ]
  },
  {
   "cell_type": "code",
   "execution_count": 12,
   "id": "2bfb91ee",
   "metadata": {},
   "outputs": [
    {
     "ename": "NameError",
     "evalue": "name 'my_list' is not defined",
     "output_type": "error",
     "traceback": [
      "\u001b[1;31m---------------------------------------------------------------------------\u001b[0m",
      "\u001b[1;31mNameError\u001b[0m                                 Traceback (most recent call last)",
      "Cell \u001b[1;32mIn[12], line 1\u001b[0m\n\u001b[1;32m----> 1\u001b[0m myssort \u001b[38;5;241m=\u001b[39m selection_sort(\u001b[43mmy_list\u001b[49m)\n",
      "\u001b[1;31mNameError\u001b[0m: name 'my_list' is not defined"
     ]
    }
   ],
   "source": [
    "myssort = selection_sort(my_list)"
   ]
  },
  {
   "cell_type": "code",
   "execution_count": null,
   "id": "8f71db3a",
   "metadata": {},
   "outputs": [],
   "source": [
    "myssort"
   ]
  },
  {
   "cell_type": "markdown",
   "id": "eb3e75d6",
   "metadata": {},
   "source": [
    "# Insertion sort"
   ]
  },
  {
   "cell_type": "code",
   "execution_count": null,
   "id": "0fe3b6f0",
   "metadata": {},
   "outputs": [],
   "source": [
    "def insertion_sort(lst):\n",
    "    for i in range(1, len(lst)):\n",
    "        temp = lst[i]\n",
    "        j = i - 1\n",
    "        while temp < lst[j] and j > -1:\n",
    "            lst[j+1] = lst[j]\n",
    "            lst[j] = temp\n",
    "            j -= 1\n",
    "    return lst"
   ]
  },
  {
   "cell_type": "code",
   "execution_count": null,
   "id": "b125b6d1",
   "metadata": {},
   "outputs": [],
   "source": [
    "myisort = insertion_sort(my_list)"
   ]
  },
  {
   "cell_type": "code",
   "execution_count": null,
   "id": "8ac5d916",
   "metadata": {},
   "outputs": [],
   "source": [
    "myisort"
   ]
  },
  {
   "cell_type": "markdown",
   "id": "6c78d9e9",
   "metadata": {},
   "source": [
    "# Merge sort"
   ]
  },
  {
   "cell_type": "code",
   "execution_count": 78,
   "id": "39779972",
   "metadata": {},
   "outputs": [],
   "source": [
    "def merge(list1, list2):\n",
    "    combiner = []\n",
    "    i = 0\n",
    "    j = 0\n",
    "    while i < len(list1) and j < len(list2):\n",
    "        if list1[i] < list2[j]:\n",
    "            combiner.append(list1[i])\n",
    "            i += 1\n",
    "        else:\n",
    "            combiner.append(list2[j])\n",
    "            j += 1\n",
    "    while i < len(list1):\n",
    "        combiner.append(list1[i])\n",
    "        i += 1\n",
    "    while j < len(list2):\n",
    "        combiner.append(list2[j])\n",
    "        j += 1\n",
    "    return combiner\n",
    "\n",
    "def merge_sort(lst):\n",
    "    if len(lst) == 1:\n",
    "        return lst\n",
    "    mid_index = int(len(lst)/2)\n",
    "    left = merge_sort(lst[:mid_index])\n",
    "    right = merge_sort(lst[mid_index:])\n",
    "    return merge(left, right)"
   ]
  },
  {
   "cell_type": "code",
   "execution_count": 79,
   "id": "12e9a1d0",
   "metadata": {},
   "outputs": [],
   "source": [
    "my_list = [1 ,4 ,5 ,6 ,7, 3, 9, 2, 8]\n",
    "msort = merge_sort(my_list)"
   ]
  },
  {
   "cell_type": "code",
   "execution_count": 80,
   "id": "d524e5c2",
   "metadata": {},
   "outputs": [
    {
     "data": {
      "text/plain": [
       "[1, 2, 3, 4, 5, 6, 7, 8, 9]"
      ]
     },
     "execution_count": 80,
     "metadata": {},
     "output_type": "execute_result"
    }
   ],
   "source": [
    "msort"
   ]
  },
  {
   "cell_type": "markdown",
   "id": "c184d39e",
   "metadata": {},
   "source": [
    "# Quick sort"
   ]
  },
  {
   "cell_type": "code",
   "execution_count": 86,
   "id": "2e88e2c2",
   "metadata": {},
   "outputs": [],
   "source": [
    "def swap(lst, index1, index2):\n",
    "    temp = lst[index1]\n",
    "    lst[index1] = lst[index2]\n",
    "    lst[index2] = temp \n",
    "    \n",
    "def pivot(lst, pivot_index, end_index):\n",
    "    swap_index = pivot_index\n",
    "    for i in range(pivot_index+1, end_index+1):\n",
    "        if lst[pivot_index] > lst[i]:\n",
    "            swap_index += 1\n",
    "            swap(lst, swap_index, i)\n",
    "    swap(lst, pivot_index, swap_index)\n",
    "    return swap_index\n",
    "\n",
    "def quick_sort_helper(lst, left, right):\n",
    "    if left < right:\n",
    "        pivot_index = pivot(lst, left, right)\n",
    "        quick_sort_helper(lst, left, pivot_index - 1)\n",
    "        quick_sort_helper(lst, pivot_index+1, right)\n",
    "    return lst\n",
    "\n",
    "def quick_sort(lst):\n",
    "    quick_sort_helper(lst, 0, len(lst)-1)"
   ]
  },
  {
   "cell_type": "code",
   "execution_count": 87,
   "id": "e457ffcd",
   "metadata": {},
   "outputs": [],
   "source": [
    "qsort = quick_sort(my_list)"
   ]
  },
  {
   "cell_type": "code",
   "execution_count": 95,
   "id": "0a7d6fea",
   "metadata": {},
   "outputs": [
    {
     "name": "stdout",
     "output_type": "stream",
     "text": [
      "[1, 2, 3, 4, 5, 6, 7, 8, 9]\n"
     ]
    }
   ],
   "source": [
    "print(my_list)"
   ]
  },
  {
   "cell_type": "code",
   "execution_count": null,
   "id": "479f9422",
   "metadata": {},
   "outputs": [],
   "source": []
  }
 ],
 "metadata": {
  "kernelspec": {
   "display_name": "Python 3 (ipykernel)",
   "language": "python",
   "name": "python3"
  },
  "language_info": {
   "codemirror_mode": {
    "name": "ipython",
    "version": 3
   },
   "file_extension": ".py",
   "mimetype": "text/x-python",
   "name": "python",
   "nbconvert_exporter": "python",
   "pygments_lexer": "ipython3",
   "version": "3.10.4"
  }
 },
 "nbformat": 4,
 "nbformat_minor": 5
}
